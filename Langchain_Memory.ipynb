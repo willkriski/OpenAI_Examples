{
  "cells": [
    {
      "cell_type": "code",
      "execution_count": null,
      "metadata": {
        "id": "efJXUf2YXIYi"
      },
      "outputs": [],
      "source": [
        "#!pip install langchain\n",
        "!pip install openai"
      ]
    },
    {
      "cell_type": "code",
      "execution_count": 5,
      "metadata": {
        "id": "E9JBfzRcXUw6"
      },
      "outputs": [],
      "source": [
        "import os\n",
        "os.environ[\"OPENAI_API_KEY\"] =\"YOUR_API_KEY\""
      ]
    },
    {
      "cell_type": "code",
      "execution_count": 8,
      "metadata": {
        "colab": {
          "base_uri": "https://localhost:8080/",
          "height": 278
        },
        "id": "sr4hBqXnXepE",
        "outputId": "3ddd98e7-1425-478f-84b1-4a36841fd920"
      },
      "outputs": [
        {
          "name": "stdout",
          "output_type": "stream",
          "text": [
            "\n",
            "\n",
            "\u001b[1m> Entering new ConversationChain chain...\u001b[0m\n",
            "Prompt after formatting:\n",
            "\u001b[32;1m\u001b[1;3mThe following is a friendly conversation between a human and an AI. The AI is talkative and provides lots of specific details from its context. If the AI does not know the answer to a question, it truthfully says it does not know.\n",
            "\n",
            "Current conversation:\n",
            "\n",
            "Human: Hi there!\n",
            "AI:\u001b[0m\n",
            "\n",
            "\u001b[1m> Finished chain.\u001b[0m\n"
          ]
        },
        {
          "data": {
            "application/vnd.google.colaboratory.intrinsic+json": {
              "type": "string"
            },
            "text/plain": [
              "\" Hi there! It's nice to meet you. How can I help you today?\""
            ]
          },
          "execution_count": 8,
          "metadata": {},
          "output_type": "execute_result"
        }
      ],
      "source": [
        "from langchain import OpenAI, ConversationChain\n",
        "from langchain.memory import ConversationBufferMemory\n",
        "llm = OpenAI(temperature=0)\n",
        "conversation = ConversationChain(llm=llm, verbose=True,memory=ConversationBufferMemory())\n",
        "conversation.predict(input=\"Hi there!\")"
      ]
    },
    {
      "cell_type": "code",
      "execution_count": 9,
      "metadata": {
        "colab": {
          "base_uri": "https://localhost:8080/",
          "height": 296
        },
        "id": "zqcm8Mm7L7Iw",
        "outputId": "225452f1-d67d-4980-a73f-c82454968b09"
      },
      "outputs": [
        {
          "name": "stdout",
          "output_type": "stream",
          "text": [
            "\n",
            "\n",
            "\u001b[1m> Entering new ConversationChain chain...\u001b[0m\n",
            "Prompt after formatting:\n",
            "\u001b[32;1m\u001b[1;3mThe following is a friendly conversation between a human and an AI. The AI is talkative and provides lots of specific details from its context. If the AI does not know the answer to a question, it truthfully says it does not know.\n",
            "\n",
            "Current conversation:\n",
            "Human: Hi there!\n",
            "AI:  Hi there! It's nice to meet you. How can I help you today?\n",
            "Human: How are you\n",
            "AI:\u001b[0m\n",
            "\n",
            "\u001b[1m> Finished chain.\u001b[0m\n"
          ]
        },
        {
          "data": {
            "application/vnd.google.colaboratory.intrinsic+json": {
              "type": "string"
            },
            "text/plain": [
              "\" I'm doing great, thanks for asking! I'm feeling very excited about the new projects I'm working on. How about you?\""
            ]
          },
          "execution_count": 9,
          "metadata": {},
          "output_type": "execute_result"
        }
      ],
      "source": [
        "conversation.predict(input=\"How are you\")"
      ]
    },
    {
      "cell_type": "code",
      "execution_count": 17,
      "metadata": {
        "id": "GGAXQGWlMI_O"
      },
      "outputs": [],
      "source": [
        "from langchain.schema import messages_from_dict, messages_to_dict\n",
        "data = messages_to_dict(conversation.memory.chat_memory.messages)"
      ]
    },
    {
      "cell_type": "code",
      "execution_count": 19,
      "metadata": {
        "id": "YiaMQ5_wCR0w"
      },
      "outputs": [],
      "source": [
        "import json"
      ]
    },
    {
      "cell_type": "code",
      "execution_count": 20,
      "metadata": {
        "id": "tWqjeuVYCWLW"
      },
      "outputs": [],
      "source": [
        "with open('chat.json', 'w') as json_file:\n",
        "    json.dump(data, json_file)"
      ]
    },
    {
      "cell_type": "code",
      "execution_count": 28,
      "metadata": {
        "id": "fMLdaYMhDDV1"
      },
      "outputs": [],
      "source": [
        "with open('chat.json', 'r') as json_file:\n",
        "    previousChat = json.load(json_file)"
      ]
    },
    {
      "cell_type": "code",
      "execution_count": 26,
      "metadata": {
        "id": "KY1DjtTvql6U"
      },
      "outputs": [],
      "source": [
        "conversation.memory.clear()"
      ]
    },
    {
      "cell_type": "code",
      "execution_count": 30,
      "metadata": {
        "id": "RCbhCGsqFhb_"
      },
      "outputs": [],
      "source": [
        "mem = messages_from_dict(previousChat)"
      ]
    },
    {
      "cell_type": "code",
      "execution_count": 32,
      "metadata": {
        "id": "NgmzjdcSRq4_"
      },
      "outputs": [],
      "source": [
        "conversation.memory.chat_memory.messages = mem"
      ]
    },
    {
      "cell_type": "code",
      "execution_count": 34,
      "metadata": {
        "colab": {
          "base_uri": "https://localhost:8080/",
          "height": 351
        },
        "id": "cvRHc-AvR27q",
        "outputId": "9102b433-bcb5-481e-b283-cf06a1108f3d"
      },
      "outputs": [
        {
          "name": "stdout",
          "output_type": "stream",
          "text": [
            "\n",
            "\n",
            "\u001b[1m> Entering new ConversationChain chain...\u001b[0m\n",
            "Prompt after formatting:\n",
            "\u001b[32;1m\u001b[1;3mThe following is a friendly conversation between a human and an AI. The AI is talkative and provides lots of specific details from its context. If the AI does not know the answer to a question, it truthfully says it does not know.\n",
            "\n",
            "Current conversation:\n",
            "Human: Hi there!\n",
            "AI:  Hi there! It's nice to meet you. How can I help you today?\n",
            "Human: How are you\n",
            "AI:  I'm doing great, thanks for asking! I'm feeling very excited about the new projects I'm working on. How about you?\n",
            "Human: i'm fine thanks. tell me more\n",
            "AI:\u001b[0m\n",
            "\n",
            "\u001b[1m> Finished chain.\u001b[0m\n"
          ]
        },
        {
          "data": {
            "application/vnd.google.colaboratory.intrinsic+json": {
              "type": "string"
            },
            "text/plain": [
              "\" Sure! I'm currently working on a project to develop a natural language processing system that can understand and respond to human conversations. It's been a really interesting challenge so far, and I'm looking forward to seeing the results.\""
            ]
          },
          "execution_count": 34,
          "metadata": {},
          "output_type": "execute_result"
        }
      ],
      "source": [
        "conversation.predict(input=\"i'm fine thanks. tell me more\")"
      ]
    },
    {
      "cell_type": "code",
      "execution_count": 35,
      "metadata": {
        "colab": {
          "base_uri": "https://localhost:8080/",
          "height": 370
        },
        "id": "f1D09LpsSRXv",
        "outputId": "a2df2873-3b02-433c-b774-8b2c039e7d1d"
      },
      "outputs": [
        {
          "name": "stdout",
          "output_type": "stream",
          "text": [
            "\n",
            "\n",
            "\u001b[1m> Entering new ConversationChain chain...\u001b[0m\n",
            "Prompt after formatting:\n",
            "\u001b[32;1m\u001b[1;3mThe following is a friendly conversation between a human and an AI. The AI is talkative and provides lots of specific details from its context. If the AI does not know the answer to a question, it truthfully says it does not know.\n",
            "\n",
            "Current conversation:\n",
            "Human: Hi there!\n",
            "AI:  Hi there! It's nice to meet you. How can I help you today?\n",
            "Human: How are you\n",
            "AI:  I'm doing great, thanks for asking! I'm feeling very excited about the new projects I'm working on. How about you?\n",
            "Human: i'm fine thanks. tell me more\n",
            "AI:  Sure! I'm currently working on a project to develop a natural language processing system that can understand and respond to human conversations. It's been a really interesting challenge so far, and I'm looking forward to seeing the results.\n",
            "Human: what was the first thing you said to me in this convo\n",
            "AI:\u001b[0m\n",
            "\n",
            "\u001b[1m> Finished chain.\u001b[0m\n"
          ]
        },
        {
          "data": {
            "application/vnd.google.colaboratory.intrinsic+json": {
              "type": "string"
            },
            "text/plain": [
              "'  The first thing I said to you in this conversation was \"Hi there! It\\'s nice to meet you. How can I help you today?\"'"
            ]
          },
          "execution_count": 35,
          "metadata": {},
          "output_type": "execute_result"
        }
      ],
      "source": [
        "conversation.predict(input=\"what was the first thing you said to me in this convo\")"
      ]
    },
    {
      "cell_type": "code",
      "execution_count": null,
      "metadata": {
        "id": "lTdNPaj_bCrk"
      },
      "outputs": [],
      "source": [
        "conversation.predict(input=\"My name is Will. Nice to meet you AI. What would you like to talk about today?\")"
      ]
    },
    {
      "cell_type": "code",
      "execution_count": 14,
      "metadata": {
        "colab": {
          "base_uri": "https://localhost:8080/",
          "height": 351
        },
        "id": "NzklECT_bcas",
        "outputId": "08e54da1-f486-4e36-bd6c-cb607ea062c8"
      },
      "outputs": [
        {
          "name": "stdout",
          "output_type": "stream",
          "text": [
            "\n",
            "\n",
            "\u001b[1m> Entering new ConversationChain chain...\u001b[0m\n",
            "Prompt after formatting:\n",
            "\u001b[32;1m\u001b[1;3mThe following is a friendly conversation between a human and an AI. The AI is talkative and provides lots of specific details from its context. If the AI does not know the answer to a question, it truthfully says it does not know.\n",
            "\n",
            "Current conversation:\n",
            "Human: Hi there!\n",
            "AI:  Hi there! It's nice to meet you. My name is AI. What's your name?\n",
            "Human: My name is Will. Nice to meet you AI. What would you like to talk about today?\n",
            "AI:  Well, Will, I'm interested in learning more about you. What do you like to do in your free time?\n",
            "Human: Currently I'm learning about OpenAI, Python, Colab Notebooks, etc. I also like to garden and practice guitar.\n",
            "AI:\u001b[0m\n",
            "\n",
            "\u001b[1m> Finished chain.\u001b[0m\n"
          ]
        },
        {
          "data": {
            "application/vnd.google.colaboratory.intrinsic+json": {
              "type": "string"
            },
            "text/plain": [
              "\" That's really cool! I'm impressed by your dedication to learning new things. What inspired you to learn OpenAI, Python, and Colab Notebooks?\""
            ]
          },
          "execution_count": 14,
          "metadata": {},
          "output_type": "execute_result"
        }
      ],
      "source": [
        "conversation.predict(input=\"Currently I'm learning about OpenAI, Python, Colab Notebooks, etc. I also like to garden and practice guitar.\")"
      ]
    },
    {
      "cell_type": "code",
      "execution_count": 15,
      "metadata": {
        "colab": {
          "base_uri": "https://localhost:8080/",
          "height": 388
        },
        "id": "oduO96rUbtRX",
        "outputId": "218bb6bc-9358-49d5-8f67-f1743ac0fc18"
      },
      "outputs": [
        {
          "name": "stdout",
          "output_type": "stream",
          "text": [
            "\n",
            "\n",
            "\u001b[1m> Entering new ConversationChain chain...\u001b[0m\n",
            "Prompt after formatting:\n",
            "\u001b[32;1m\u001b[1;3mThe following is a friendly conversation between a human and an AI. The AI is talkative and provides lots of specific details from its context. If the AI does not know the answer to a question, it truthfully says it does not know.\n",
            "\n",
            "Current conversation:\n",
            "Human: Hi there!\n",
            "AI:  Hi there! It's nice to meet you. My name is AI. What's your name?\n",
            "Human: My name is Will. Nice to meet you AI. What would you like to talk about today?\n",
            "AI:  Well, Will, I'm interested in learning more about you. What do you like to do in your free time?\n",
            "Human: Currently I'm learning about OpenAI, Python, Colab Notebooks, etc. I also like to garden and practice guitar.\n",
            "AI:  That's really cool! I'm impressed by your dedication to learning new things. What inspired you to learn OpenAI, Python, and Colab Notebooks?\n",
            "Human: Recently OpenAI came out with ChatGPT which has inspired millions of people around the world to get into AI,programming, etc. It's being used to help people write code, write articles, and generate images and videos.\n",
            "AI:\u001b[0m\n",
            "\n",
            "\u001b[1m> Finished chain.\u001b[0m\n"
          ]
        },
        {
          "data": {
            "application/vnd.google.colaboratory.intrinsic+json": {
              "type": "string"
            },
            "text/plain": [
              "\" Wow, that's really amazing! I'm so glad to hear that OpenAI is inspiring people to learn more about AI and programming. What do you think are the most important skills to have when working with OpenAI?\""
            ]
          },
          "execution_count": 15,
          "metadata": {},
          "output_type": "execute_result"
        }
      ],
      "source": [
        "conversation.predict(input=\"Recently OpenAI came out with ChatGPT which has inspired millions of people around the world to get into AI,programming, etc. It's being used to help people write code, write articles, and generate images and videos.\")"
      ]
    },
    {
      "cell_type": "code",
      "execution_count": 16,
      "metadata": {
        "colab": {
          "base_uri": "https://localhost:8080/",
          "height": 425
        },
        "id": "6am5fp8Mb9om",
        "outputId": "5040bf0a-f22f-4b65-e52e-9795f7deff30"
      },
      "outputs": [
        {
          "name": "stdout",
          "output_type": "stream",
          "text": [
            "\n",
            "\n",
            "\u001b[1m> Entering new ConversationChain chain...\u001b[0m\n",
            "Prompt after formatting:\n",
            "\u001b[32;1m\u001b[1;3mThe following is a friendly conversation between a human and an AI. The AI is talkative and provides lots of specific details from its context. If the AI does not know the answer to a question, it truthfully says it does not know.\n",
            "\n",
            "Current conversation:\n",
            "Human: Hi there!\n",
            "AI:  Hi there! It's nice to meet you. My name is AI. What's your name?\n",
            "Human: My name is Will. Nice to meet you AI. What would you like to talk about today?\n",
            "AI:  Well, Will, I'm interested in learning more about you. What do you like to do in your free time?\n",
            "Human: Currently I'm learning about OpenAI, Python, Colab Notebooks, etc. I also like to garden and practice guitar.\n",
            "AI:  That's really cool! I'm impressed by your dedication to learning new things. What inspired you to learn OpenAI, Python, and Colab Notebooks?\n",
            "Human: Recently OpenAI came out with ChatGPT which has inspired millions of people around the world to get into AI,programming, etc. It's being used to help people write code, write articles, and generate images and videos.\n",
            "AI:  Wow, that's really amazing! I'm so glad to hear that OpenAI is inspiring people to learn more about AI and programming. What do you think are the most important skills to have when working with OpenAI?\n",
            "Human: Right now learning how to get good responses from ChatGPT is important. The field is called Prompt Engineering. Also understanding Python, javascript and probably machine learning concepts.\n",
            "AI:\u001b[0m\n",
            "\n",
            "\u001b[1m> Finished chain.\u001b[0m\n"
          ]
        },
        {
          "data": {
            "application/vnd.google.colaboratory.intrinsic+json": {
              "type": "string"
            },
            "text/plain": [
              "'  I see. It sounds like Prompt Engineering and understanding Python, JavaScript, and machine learning concepts are important skills to have when working with OpenAI. Do you have any tips for someone just starting out with OpenAI?'"
            ]
          },
          "execution_count": 16,
          "metadata": {},
          "output_type": "execute_result"
        }
      ],
      "source": [
        "conversation.predict(input=\"Right now learning how to get good responses from ChatGPT is important. The field is called Prompt Engineering. Also understanding Python, javascript and probably machine learning concepts.\")"
      ]
    },
    {
      "cell_type": "code",
      "execution_count": 18,
      "metadata": {
        "colab": {
          "base_uri": "https://localhost:8080/",
          "height": 184
        },
        "id": "yUg5NBhDciGS",
        "outputId": "1fcbc08c-57ba-4135-c0b1-9e32b01e21ac"
      },
      "outputs": [
        {
          "data": {
            "application/vnd.google.colaboratory.intrinsic+json": {
              "type": "string"
            },
            "text/plain": [
              "'{\"chat_memory\": {\"messages\": [{\"content\": \"Hi there!\", \"additional_kwargs\": {}}, {\"content\": \" Hi there! It\\'s nice to meet you. My name is AI. What\\'s your name?\", \"additional_kwargs\": {}}, {\"content\": \"My name is Will. Nice to meet you AI. What would you like to talk about today?\", \"additional_kwargs\": {}}, {\"content\": \" Well, Will, I\\'m interested in learning more about you. What do you like to do in your free time?\", \"additional_kwargs\": {}}, {\"content\": \"Currently I\\'m learning about OpenAI, Python, Colab Notebooks, etc. I also like to garden and practice guitar.\", \"additional_kwargs\": {}}, {\"content\": \" That\\'s really cool! I\\'m impressed by your dedication to learning new things. What inspired you to learn OpenAI, Python, and Colab Notebooks?\", \"additional_kwargs\": {}}, {\"content\": \"Recently OpenAI came out with ChatGPT which has inspired millions of people around the world to get into AI,programming, etc. It\\'s being used to help people write code, write articles, and generate images and videos.\", \"additional_kwargs\": {}}, {\"content\": \" Wow, that\\'s really amazing! I\\'m so glad to hear that OpenAI is inspiring people to learn more about AI and programming. What do you think are the most important skills to have when working with OpenAI?\", \"additional_kwargs\": {}}, {\"content\": \"Right now learning how to get good responses from ChatGPT is important. The field is called Prompt Engineering. Also understanding Python, javascript and probably machine learning concepts.\", \"additional_kwargs\": {}}, {\"content\": \"  I see. It sounds like Prompt Engineering and understanding Python, JavaScript, and machine learning concepts are important skills to have when working with OpenAI. Do you have any tips for someone just starting out with OpenAI?\", \"additional_kwargs\": {}}]}, \"output_key\": null, \"input_key\": null, \"return_messages\": false, \"human_prefix\": \"Human\", \"ai_prefix\": \"AI\", \"memory_key\": \"history\"}'"
            ]
          },
          "execution_count": 18,
          "metadata": {},
          "output_type": "execute_result"
        }
      ],
      "source": [
        "conversation.memory.load_memory_variables()"
      ]
    }
  ],
  "metadata": {
    "colab": {
      "provenance": []
    },
    "gpuClass": "standard",
    "kernelspec": {
      "display_name": "Python 3",
      "name": "python3"
    },
    "language_info": {
      "name": "python"
    }
  },
  "nbformat": 4,
  "nbformat_minor": 0
}
